{
 "cells": [
  {
   "cell_type": "code",
   "execution_count": 1,
   "metadata": {},
   "outputs": [],
   "source": [
    "import matplotlib.pyplot as plt\n",
    "import numpy as np\n",
    "import pandas as pd"
   ]
  },
  {
   "cell_type": "code",
   "execution_count": 2,
   "metadata": {},
   "outputs": [],
   "source": [
    "#tax_data  = pd.read_csv(\"https://raw.githubusercontent.com/dphi-official/Datasets/master/tax_payers/train_set_label.csv\" )"
   ]
  },
  {
   "cell_type": "code",
   "execution_count": 3,
   "metadata": {},
   "outputs": [],
   "source": [
    "#test_data = pd.read_csv('https://raw.githubusercontent.com/dphi-official/Datasets/master/tax_payers/test_set_label.csv')"
   ]
  },
  {
   "cell_type": "code",
   "execution_count": 4,
   "metadata": {},
   "outputs": [],
   "source": [
    "#df = tax_data"
   ]
  },
  {
   "cell_type": "code",
   "execution_count": 5,
   "metadata": {},
   "outputs": [],
   "source": [
    "#df2 = test_data"
   ]
  },
  {
   "cell_type": "code",
   "execution_count": 6,
   "metadata": {},
   "outputs": [],
   "source": [
    "df = pd.read_excel('train.xlsx')\n",
    "dftest = pd.read_excel('test.xlsx')"
   ]
  },
  {
   "cell_type": "markdown",
   "metadata": {},
   "source": [
    "HHI: Household income\n",
    "HHDL: Household debt level\n",
    "Married: There are three categories for a taxpayer 0, 1, 2 with regards to marriage.\n",
    "PoliticalParty: Name of the political party\n",
    "CollegeGrads: Grade in College out of 5\n",
    "AHHAge: Average household age\n",
    "cars: number of cars in house\n",
    "Filed in YYYY: Tax filed in given year YYYY"
   ]
  },
  {
   "cell_type": "code",
   "execution_count": 7,
   "metadata": {},
   "outputs": [
    {
     "data": {
      "text/html": [
       "<div>\n",
       "<style scoped>\n",
       "    .dataframe tbody tr th:only-of-type {\n",
       "        vertical-align: middle;\n",
       "    }\n",
       "\n",
       "    .dataframe tbody tr th {\n",
       "        vertical-align: top;\n",
       "    }\n",
       "\n",
       "    .dataframe thead th {\n",
       "        text-align: right;\n",
       "    }\n",
       "</style>\n",
       "<table border=\"1\" class=\"dataframe\">\n",
       "  <thead>\n",
       "    <tr style=\"text-align: right;\">\n",
       "      <th></th>\n",
       "      <th>Unnamed: 0</th>\n",
       "      <th>HHI</th>\n",
       "      <th>HHDL</th>\n",
       "      <th>Married</th>\n",
       "      <th>CollegGrads</th>\n",
       "      <th>AHHAge</th>\n",
       "      <th>Cars</th>\n",
       "      <th>Filed in 2017</th>\n",
       "      <th>Filed in 2016</th>\n",
       "      <th>Filed in 2015</th>\n",
       "      <th>PoliticalParty</th>\n",
       "    </tr>\n",
       "  </thead>\n",
       "  <tbody>\n",
       "    <tr>\n",
       "      <th>0</th>\n",
       "      <td>61</td>\n",
       "      <td>183414</td>\n",
       "      <td>-12402</td>\n",
       "      <td>1</td>\n",
       "      <td>2</td>\n",
       "      <td>28</td>\n",
       "      <td>1</td>\n",
       "      <td>0</td>\n",
       "      <td>0</td>\n",
       "      <td>1</td>\n",
       "      <td>Democrat</td>\n",
       "    </tr>\n",
       "    <tr>\n",
       "      <th>1</th>\n",
       "      <td>501</td>\n",
       "      <td>129786</td>\n",
       "      <td>700251</td>\n",
       "      <td>2</td>\n",
       "      <td>5</td>\n",
       "      <td>63</td>\n",
       "      <td>3</td>\n",
       "      <td>0</td>\n",
       "      <td>0</td>\n",
       "      <td>0</td>\n",
       "      <td>Republican</td>\n",
       "    </tr>\n",
       "    <tr>\n",
       "      <th>2</th>\n",
       "      <td>658</td>\n",
       "      <td>268343</td>\n",
       "      <td>493411</td>\n",
       "      <td>2</td>\n",
       "      <td>4</td>\n",
       "      <td>44</td>\n",
       "      <td>1</td>\n",
       "      <td>1</td>\n",
       "      <td>0</td>\n",
       "      <td>1</td>\n",
       "      <td>Independent</td>\n",
       "    </tr>\n",
       "    <tr>\n",
       "      <th>3</th>\n",
       "      <td>703</td>\n",
       "      <td>290506</td>\n",
       "      <td>-433408</td>\n",
       "      <td>1</td>\n",
       "      <td>1</td>\n",
       "      <td>28</td>\n",
       "      <td>5</td>\n",
       "      <td>1</td>\n",
       "      <td>0</td>\n",
       "      <td>1</td>\n",
       "      <td>Republican</td>\n",
       "    </tr>\n",
       "    <tr>\n",
       "      <th>4</th>\n",
       "      <td>702</td>\n",
       "      <td>90108</td>\n",
       "      <td>907135</td>\n",
       "      <td>1</td>\n",
       "      <td>3</td>\n",
       "      <td>57</td>\n",
       "      <td>5</td>\n",
       "      <td>1</td>\n",
       "      <td>1</td>\n",
       "      <td>0</td>\n",
       "      <td>Democrat</td>\n",
       "    </tr>\n",
       "  </tbody>\n",
       "</table>\n",
       "</div>"
      ],
      "text/plain": [
       "   Unnamed: 0     HHI    HHDL  Married  CollegGrads  AHHAge  Cars  \\\n",
       "0          61  183414  -12402        1            2      28     1   \n",
       "1         501  129786  700251        2            5      63     3   \n",
       "2         658  268343  493411        2            4      44     1   \n",
       "3         703  290506 -433408        1            1      28     5   \n",
       "4         702   90108  907135        1            3      57     5   \n",
       "\n",
       "   Filed in 2017  Filed in 2016  Filed in 2015 PoliticalParty  \n",
       "0              0              0              1       Democrat  \n",
       "1              0              0              0     Republican  \n",
       "2              1              0              1    Independent  \n",
       "3              1              0              1     Republican  \n",
       "4              1              1              0       Democrat  "
      ]
     },
     "execution_count": 7,
     "metadata": {},
     "output_type": "execute_result"
    }
   ],
   "source": [
    "df.head()"
   ]
  },
  {
   "cell_type": "code",
   "execution_count": 8,
   "metadata": {},
   "outputs": [],
   "source": [
    "#Dropping the unnamed\n",
    "df = df.drop('Unnamed: 0', axis = 1)\n",
    "dftest = dftest.drop('Unnamed: 0', axis = 1)"
   ]
  },
  {
   "cell_type": "code",
   "execution_count": 9,
   "metadata": {},
   "outputs": [
    {
     "data": {
      "text/plain": [
       "Democrat       269\n",
       "Independent    269\n",
       "Republican     265\n",
       "Name: PoliticalParty, dtype: int64"
      ]
     },
     "execution_count": 9,
     "metadata": {},
     "output_type": "execute_result"
    }
   ],
   "source": [
    "df.PoliticalParty.value_counts()"
   ]
  },
  {
   "cell_type": "code",
   "execution_count": 10,
   "metadata": {},
   "outputs": [
    {
     "data": {
      "text/plain": [
       "HHI               0\n",
       "HHDL              0\n",
       "Married           0\n",
       "CollegGrads       0\n",
       "AHHAge            0\n",
       "Cars              0\n",
       "Filed in 2017     0\n",
       "Filed in 2016     0\n",
       "Filed in 2015     0\n",
       "PoliticalParty    0\n",
       "dtype: int64"
      ]
     },
     "execution_count": 10,
     "metadata": {},
     "output_type": "execute_result"
    }
   ],
   "source": [
    "df.isna().sum()"
   ]
  },
  {
   "cell_type": "code",
   "execution_count": 11,
   "metadata": {},
   "outputs": [],
   "source": [
    "#import pandas_profiling as pp\n",
    "#prof = pp.ProfileReport(df)\n",
    "#prof"
   ]
  },
  {
   "cell_type": "markdown",
   "metadata": {},
   "source": [
    "def age(x):\n",
    "    if x >= 80:\n",
    "        return 0\n",
    "    elif x >= 60:\n",
    "        return 1\n",
    "    elif x >= 40:\n",
    "        return 2\n",
    "    else:\n",
    "        return 3\n",
    "\n",
    "df.AHHAge = df.AHHAge.apply(age)"
   ]
  },
  {
   "cell_type": "code",
   "execution_count": 12,
   "metadata": {},
   "outputs": [],
   "source": [
    "#dftest.AHHAge = df.AHHAge.apply(age)"
   ]
  },
  {
   "cell_type": "code",
   "execution_count": 13,
   "metadata": {},
   "outputs": [
    {
     "data": {
      "text/plain": [
       "0    0\n",
       "1    2\n",
       "2    1\n",
       "3    2\n",
       "4    0\n",
       "Name: PoliticalParty, dtype: int32"
      ]
     },
     "execution_count": 13,
     "metadata": {},
     "output_type": "execute_result"
    }
   ],
   "source": [
    "#Encoding the categorical feature. \n",
    "from sklearn.preprocessing import LabelEncoder\n",
    "encoder = LabelEncoder()\n",
    "df.PoliticalParty = encoder.fit_transform(df.PoliticalParty)\n",
    "#let's preview the encoded feature\n",
    "df.PoliticalParty.head()"
   ]
  },
  {
   "cell_type": "markdown",
   "metadata": {},
   "source": [
    "0 : Democrat\n",
    "2 : Republican\n",
    "1 : Independent"
   ]
  },
  {
   "cell_type": "code",
   "execution_count": 14,
   "metadata": {},
   "outputs": [
    {
     "data": {
      "text/html": [
       "<div>\n",
       "<style scoped>\n",
       "    .dataframe tbody tr th:only-of-type {\n",
       "        vertical-align: middle;\n",
       "    }\n",
       "\n",
       "    .dataframe tbody tr th {\n",
       "        vertical-align: top;\n",
       "    }\n",
       "\n",
       "    .dataframe thead th {\n",
       "        text-align: right;\n",
       "    }\n",
       "</style>\n",
       "<table border=\"1\" class=\"dataframe\">\n",
       "  <thead>\n",
       "    <tr style=\"text-align: right;\">\n",
       "      <th></th>\n",
       "      <th>HHI</th>\n",
       "      <th>HHDL</th>\n",
       "      <th>Married</th>\n",
       "      <th>CollegGrads</th>\n",
       "      <th>AHHAge</th>\n",
       "      <th>Cars</th>\n",
       "      <th>Filed in 2017</th>\n",
       "      <th>Filed in 2016</th>\n",
       "      <th>Filed in 2015</th>\n",
       "      <th>PoliticalParty</th>\n",
       "    </tr>\n",
       "  </thead>\n",
       "  <tbody>\n",
       "    <tr>\n",
       "      <th>0</th>\n",
       "      <td>183414</td>\n",
       "      <td>-12402</td>\n",
       "      <td>1</td>\n",
       "      <td>2</td>\n",
       "      <td>28</td>\n",
       "      <td>1</td>\n",
       "      <td>0</td>\n",
       "      <td>0</td>\n",
       "      <td>1</td>\n",
       "      <td>0</td>\n",
       "    </tr>\n",
       "    <tr>\n",
       "      <th>1</th>\n",
       "      <td>129786</td>\n",
       "      <td>700251</td>\n",
       "      <td>2</td>\n",
       "      <td>5</td>\n",
       "      <td>63</td>\n",
       "      <td>3</td>\n",
       "      <td>0</td>\n",
       "      <td>0</td>\n",
       "      <td>0</td>\n",
       "      <td>2</td>\n",
       "    </tr>\n",
       "    <tr>\n",
       "      <th>2</th>\n",
       "      <td>268343</td>\n",
       "      <td>493411</td>\n",
       "      <td>2</td>\n",
       "      <td>4</td>\n",
       "      <td>44</td>\n",
       "      <td>1</td>\n",
       "      <td>1</td>\n",
       "      <td>0</td>\n",
       "      <td>1</td>\n",
       "      <td>1</td>\n",
       "    </tr>\n",
       "  </tbody>\n",
       "</table>\n",
       "</div>"
      ],
      "text/plain": [
       "      HHI    HHDL  Married  CollegGrads  AHHAge  Cars  Filed in 2017  \\\n",
       "0  183414  -12402        1            2      28     1              0   \n",
       "1  129786  700251        2            5      63     3              0   \n",
       "2  268343  493411        2            4      44     1              1   \n",
       "\n",
       "   Filed in 2016  Filed in 2015  PoliticalParty  \n",
       "0              0              1               0  \n",
       "1              0              0               2  \n",
       "2              0              1               1  "
      ]
     },
     "execution_count": 14,
     "metadata": {},
     "output_type": "execute_result"
    }
   ],
   "source": [
    "df.head(3)"
   ]
  },
  {
   "cell_type": "code",
   "execution_count": 15,
   "metadata": {},
   "outputs": [],
   "source": [
    "x = df.drop(\"PoliticalParty\", axis = 1)\n",
    "y = df['PoliticalParty']"
   ]
  },
  {
   "cell_type": "code",
   "execution_count": 16,
   "metadata": {},
   "outputs": [],
   "source": [
    "from sklearn.preprocessing import MinMaxScaler\n",
    "\n",
    "#df[\"HHI\"] = StandardScaler().fit_transform(df[\"HHI\"].values.reshape(-1,1))\n",
    "#df[\"HHDL\"] = StandardScaler().fit_transform(df[\"HHDL\"].values.reshape(-1,1))\n",
    "minsc =MinMaxScaler()\n",
    "x = minsc.fit_transform(x)"
   ]
  },
  {
   "cell_type": "code",
   "execution_count": 17,
   "metadata": {},
   "outputs": [],
   "source": [
    "dftest = minsc.fit_transform(dftest)"
   ]
  },
  {
   "cell_type": "code",
   "execution_count": 18,
   "metadata": {},
   "outputs": [
    {
     "data": {
      "image/png": "[encoded data removed]",
      "text/plain": [
       "<Figure size 720x720 with 1 Axes>"
      ]
     },
     "metadata": {
      "needs_background": "light"
     },
     "output_type": "display_data"
    }
   ],
   "source": [
    "#PCA\n",
    "from sklearn.decomposition import PCA\n",
    "pca = PCA()\n",
    "x_pca = pca.fit_transform(x)\n",
    "\n",
    "#plot the graph to find the principal components\n",
    "plt.figure(figsize=(10,10))\n",
    "plt.plot(np.cumsum(pca.explained_variance_ratio_), 'ro-')\n",
    "plt.grid()"
   ]
  },
  {
   "cell_type": "code",
   "execution_count": 19,
   "metadata": {},
   "outputs": [],
   "source": [
    "pca_new = PCA(n_components=6)\n",
    "x = pca_new.fit_transform(x)"
   ]
  },
  {
   "cell_type": "code",
   "execution_count": 20,
   "metadata": {},
   "outputs": [],
   "source": [
    "dftest = pca_new.fit_transform(dftest)"
   ]
  },
  {
   "cell_type": "code",
   "execution_count": 21,
   "metadata": {},
   "outputs": [],
   "source": [
    "#dftest[\"HHI\"] = StandardScaler().fit_transform(dftest[\"HHI\"].values.reshape(-1,1))\n",
    "\n",
    "#dftest[\"HHDL\"] = StandardScaler().fit_transform(dftest[\"HHDL\"].values.reshape(-1,1))"
   ]
  },
  {
   "cell_type": "code",
   "execution_count": 28,
   "metadata": {},
   "outputs": [],
   "source": [
    "# data splitting\n",
    "from sklearn.model_selection import train_test_split\n",
    "x_train, x_test, y_train, y_test = train_test_split(x,y,test_size=0.3, random_state = 1)"
   ]
  },
  {
   "cell_type": "code",
   "execution_count": 29,
   "metadata": {},
   "outputs": [],
   "source": [
    "from sklearn.metrics import confusion_matrix,accuracy_score,roc_curve,classification_report\n",
    "from sklearn.linear_model import LogisticRegression\n",
    "from sklearn.naive_bayes import GaussianNB\n",
    "from xgboost import XGBClassifier\n",
    "from sklearn.ensemble import RandomForestClassifier\n",
    "from sklearn.tree import DecisionTreeClassifier\n",
    "from sklearn.neighbors import KNeighborsClassifier\n",
    "from sklearn.naive_bayes import GaussianNB\n",
    "from sklearn.svm import SVC"
   ]
  },
  {
   "cell_type": "code",
   "execution_count": 30,
   "metadata": {},
   "outputs": [
    {
     "name": "stdout",
     "output_type": "stream",
     "text": [
      "33.60995850622407\n"
     ]
    },
    {
     "data": {
      "image/png": "[encoded data removed]",
      "text/plain": [
       "<Figure size 432x288 with 1 Axes>"
      ]
     },
     "metadata": {
      "needs_background": "light"
     },
     "output_type": "display_data"
    }
   ],
   "source": [
    "rf = RandomForestClassifier(n_estimators=20, random_state=33,n_jobs=-1 ,max_depth=5)\n",
    "rf.fit(x_train, y_train)\n",
    "rfP = rf.predict(x_test)\n",
    "\n",
    "rfAS = accuracy_score(y_test, rfP)\n",
    "rfaccuracy = rfAS*100\n",
    "print (rfaccuracy)\n",
    "\n",
    "#Feature importance\n",
    "#plot graph of feature importances for better visualization\n",
    "feat_importances = pd.Series(rf.feature_importances_)\n",
    "feat_importances.nlargest(10).plot(kind='barh')\n",
    "plt.show()"
   ]
  },
  {
   "cell_type": "code",
   "execution_count": 31,
   "metadata": {},
   "outputs": [],
   "source": [
    "from sklearn.feature_selection import SelectFromModel\n",
    "rf_sfm = SelectFromModel(rf, threshold=0.1)\n",
    "\n",
    "rf_sfm = rf_sfm.fit(x_train, y_train)\n",
    "\n",
    "X_important_train = rf_sfm.transform(x_train)\n",
    "X_important_test = rf_sfm.transform(x_test)"
   ]
  },
  {
   "cell_type": "code",
   "execution_count": 32,
   "metadata": {},
   "outputs": [
    {
     "data": {
      "text/plain": [
       "33.60995850622407"
      ]
     },
     "execution_count": 32,
     "metadata": {},
     "output_type": "execute_result"
    }
   ],
   "source": [
    "# Create a new random forest classifier for the most important features\n",
    "clf_important = RandomForestClassifier(n_estimators=10000, random_state=1, n_jobs=-1)\n",
    "\n",
    "# Train the new classifier on the new dataset containing the most important features\n",
    "clf_important = clf_important.fit(X_important_train, y_train)\n",
    "\n",
    "clf_importantP = clf_important.predict(X_important_test)\n",
    "\n",
    "clf_importantAS = accuracy_score(y_test, clf_importantP)\n",
    "clf_importantaccuracy = clf_importantAS*100\n",
    "clf_importantaccuracy"
   ]
  },
  {
   "cell_type": "code",
   "execution_count": 33,
   "metadata": {},
   "outputs": [],
   "source": [
    "test_important_dftest = rf_sfm.transform(dftest)\n",
    "\n",
    "\n",
    "randomtarget = clf_important.predict(test_important_dftest)\n",
    "\n",
    "randomtarget = encoder.inverse_transform(randomtarget)\n",
    "randomtarget = pd.DataFrame(randomtarget, columns = ['prediction'])\n",
    "randomtarget.to_csv(\"submissionrandommin.csv\", index = False) "
   ]
  },
  {
   "cell_type": "code",
   "execution_count": null,
   "metadata": {},
   "outputs": [],
   "source": []
  },
  {
   "cell_type": "code",
   "execution_count": 34,
   "metadata": {},
   "outputs": [
    {
     "data": {
      "text/plain": [
       "29.460580912863072"
      ]
     },
     "execution_count": 34,
     "metadata": {},
     "output_type": "execute_result"
    }
   ],
   "source": [
    "svc =  SVC(kernel='rbf', C=2)\n",
    "svc.fit(x_train, y_train)\n",
    "svcP = svc.predict(x_test)\n",
    "\n",
    "svcAS = accuracy_score(y_test, svcP)\n",
    "svcaccuracy = svcAS*100\n",
    "svcaccuracy"
   ]
  },
  {
   "cell_type": "code",
   "execution_count": 35,
   "metadata": {},
   "outputs": [
    {
     "data": {
      "text/plain": [
       "27.385892116182575"
      ]
     },
     "execution_count": 35,
     "metadata": {},
     "output_type": "execute_result"
    }
   ],
   "source": [
    "knn = KNeighborsClassifier(n_neighbors=10)\n",
    "knn.fit(x_train, y_train)\n",
    "knnP = knn.predict(x_test)\n",
    "\n",
    "knnAS = accuracy_score(y_test, knnP)\n",
    "knnaccuracy = knnAS*100\n",
    "knnaccuracy"
   ]
  },
  {
   "cell_type": "code",
   "execution_count": 36,
   "metadata": {},
   "outputs": [
    {
     "data": {
      "text/plain": [
       "36.92946058091287"
      ]
     },
     "execution_count": 36,
     "metadata": {},
     "output_type": "execute_result"
    }
   ],
   "source": [
    "from lightgbm import LGBMClassifier\n",
    "light = LGBMClassifier()\n",
    "light.fit(x_train, y_train)\n",
    "lightP = light.predict(x_test)\n",
    "\n",
    "lightAS = accuracy_score(y_test, lightP)\n",
    "lightaccuracy = lightAS*100\n",
    "lightaccuracy"
   ]
  },
  {
   "cell_type": "code",
   "execution_count": 37,
   "metadata": {},
   "outputs": [],
   "source": [
    "lighttarget = light.predict(dftest)\n",
    "\n",
    "lighttarget = encoder.inverse_transform(lighttarget)\n",
    "lighttarget = pd.DataFrame(lighttarget, columns = ['prediction'])\n",
    "lighttarget.to_csv(\"submissionlightmin.csv\", index = False)  #BEST SCORE#"
   ]
  },
  {
   "cell_type": "code",
   "execution_count": 38,
   "metadata": {},
   "outputs": [
    {
     "data": {
      "text/plain": [
       "34.439834024896264"
      ]
     },
     "execution_count": 38,
     "metadata": {},
     "output_type": "execute_result"
    }
   ],
   "source": [
    "xgb = XGBClassifier()\n",
    "xgb.fit(x_train, y_train)\n",
    "xgbP = xgb.predict(x_test)\n",
    "\n",
    "xgbAS = accuracy_score(y_test, xgbP)\n",
    "xgbaccuracy = xgbAS*100\n",
    "xgbaccuracy"
   ]
  },
  {
   "cell_type": "code",
   "execution_count": 39,
   "metadata": {},
   "outputs": [
    {
     "data": {
      "text/plain": [
       "32.365145228215766"
      ]
     },
     "execution_count": 39,
     "metadata": {},
     "output_type": "execute_result"
    }
   ],
   "source": [
    "dec = DecisionTreeClassifier()\n",
    "dec.fit(x_train, y_train)\n",
    "decP = dec.predict(x_test)\n",
    "\n",
    "decAS = accuracy_score(y_test, decP)\n",
    "decaccuracy = decAS*100\n",
    "decaccuracy"
   ]
  },
  {
   "cell_type": "code",
   "execution_count": 40,
   "metadata": {},
   "outputs": [],
   "source": [
    "dtarget = dec.predict(dftest)\n",
    "\n",
    "dtarget = encoder.inverse_transform(dtarget)\n",
    "dtarget = pd.DataFrame(dtarget, columns = ['prediction'])\n",
    "dtarget.to_csv(\"submissiontwomin.csv\", index = False) "
   ]
  },
  {
   "cell_type": "code",
   "execution_count": null,
   "metadata": {},
   "outputs": [],
   "source": []
  },
  {
   "cell_type": "code",
   "execution_count": 41,
   "metadata": {},
   "outputs": [
    {
     "data": {
      "text/plain": [
       "32.365145228215766"
      ]
     },
     "execution_count": 41,
     "metadata": {},
     "output_type": "execute_result"
    }
   ],
   "source": [
    "from sklearn.ensemble import AdaBoostClassifier\n",
    "ada = AdaBoostClassifier(n_estimators=100, random_state=33)\n",
    "ada.fit(x_train, y_train)\n",
    "adaP = ada.predict(x_test)\n",
    "\n",
    "adaAS = accuracy_score(y_test, adaP)\n",
    "adaaccuracy = adaAS*100\n",
    "adaaccuracy"
   ]
  },
  {
   "cell_type": "code",
   "execution_count": null,
   "metadata": {},
   "outputs": [],
   "source": []
  },
  {
   "cell_type": "code",
   "execution_count": null,
   "metadata": {},
   "outputs": [],
   "source": []
  },
  {
   "cell_type": "code",
   "execution_count": 42,
   "metadata": {},
   "outputs": [
    {
     "name": "stdout",
     "output_type": "stream",
     "text": [
      "Num Features: 3\n",
      "Selected Features: [ True False False False  True  True]\n",
      "Feature Ranking: [1 3 2 4 1 1]\n"
     ]
    }
   ],
   "source": [
    "#Recursive Feature Elimination (RFE)\n",
    "\n",
    "from sklearn.feature_selection import RFE #importing RFE class from sklearn library\n",
    "\n",
    "rfe = RFE(estimator= dec , step = 1) \n",
    "fit = rfe.fit(x_train, y_train)\n",
    "\n",
    "print(\"Num Features: %d\" % fit.n_features_)\n",
    "print(\"Selected Features: %s\" % fit.support_)\n",
    "print(\"Feature Ranking: %s\" % fit.ranking_)"
   ]
  },
  {
   "cell_type": "code",
   "execution_count": 43,
   "metadata": {},
   "outputs": [
    {
     "data": {
      "text/plain": [
       "32.365145228215766"
      ]
     },
     "execution_count": 43,
     "metadata": {},
     "output_type": "execute_result"
    }
   ],
   "source": [
    "# Transforming the data\n",
    "x_train_rfe = rfe.transform(x_train)\n",
    "x_test_rfe = rfe.transform(x_test)\n",
    "\n",
    "# Fitting our baseline model with the transformed data\n",
    "dec_rfe_model = dec.fit(x_train_rfe, y_train)\n",
    "\n",
    "dec_rfeP = dec_rfe_model.predict(x_test_rfe)\n",
    "\n",
    "dec_rfeAS = accuracy_score(y_test, dec_rfeP)\n",
    "decrfeaccuracy = dec_rfeAS*100\n",
    "decrfeaccuracy"
   ]
  },
  {
   "cell_type": "code",
   "execution_count": 44,
   "metadata": {},
   "outputs": [],
   "source": [
    "dftest_rfe = rfe.transform(dftest)\n",
    "\n",
    "dec_rfe_modeltarget = dec_rfe_model.predict(dftest_rfe)\n",
    "dec_rfe_modeltarget = encoder.inverse_transform(dec_rfe_modeltarget)\n",
    "\n",
    "dec_rfe_modeltarget = pd.DataFrame(dec_rfe_modeltarget, columns = ['prediction'])\n",
    "dec_rfe_modeltarget.to_csv(\"submissionrfemin.csv\", index = False) "
   ]
  },
  {
   "cell_type": "code",
   "execution_count": null,
   "metadata": {},
   "outputs": [],
   "source": []
  },
  {
   "cell_type": "code",
   "execution_count": 39,
   "metadata": {},
   "outputs": [
    {
     "data": {
      "text/plain": [
       "34.85477178423236"
      ]
     },
     "execution_count": 39,
     "metadata": {},
     "output_type": "execute_result"
    }
   ],
   "source": [
    "#Using Boosting model\n",
    "\n",
    "from sklearn.ensemble import GradientBoostingClassifier\n",
    "\n",
    "boostmodel = GradientBoostingClassifier()\n",
    "boostmodel.fit(x_train, y_train)\n",
    "boostmodelP = boostmodel.predict(x_test)\n",
    "\n",
    "boostmodelAS = accuracy_score(y_test, boostmodelP)\n",
    "boostaccuracy = boostmodelAS*100\n",
    "boostaccuracy"
   ]
  },
  {
   "cell_type": "code",
   "execution_count": 40,
   "metadata": {},
   "outputs": [],
   "source": [
    "#Hyperparameter Tuning\n",
    "\n",
    "#RandomizedSearchCV\n",
    "\n",
    "def print_results(results):\n",
    "    print('BEST PARAMS: {}\\n'.format(results.best_params_))\n",
    "\n",
    "    means = results.cv_results_['mean_test_score']\n",
    "    stds = results.cv_results_['std_test_score']\n",
    "    for mean, std, params in zip(means, stds, results.cv_results_['params']):\n",
    "        print('{} (+/-{}) for {}'.format(round(mean, 3), round(std * 2, 3), params))"
   ]
  },
  {
   "cell_type": "code",
   "execution_count": 41,
   "metadata": {},
   "outputs": [
    {
     "name": "stdout",
     "output_type": "stream",
     "text": [
      "BEST PARAMS: {'n_estimators': 250, 'max_depth': 3, 'learning_rate': 1}\n",
      "\n",
      "0.386 (+/-0.079) for {'n_estimators': 150, 'max_depth': 16, 'learning_rate': 0.1}\n",
      "0.383 (+/-0.058) for {'n_estimators': 50, 'max_depth': 8, 'learning_rate': 0.1}\n",
      "0.366 (+/-0.104) for {'n_estimators': 100, 'max_depth': 4, 'learning_rate': 0.1}\n",
      "0.37 (+/-0.062) for {'n_estimators': 250, 'max_depth': 4, 'learning_rate': 0.1}\n",
      "0.39 (+/-0.085) for {'n_estimators': 5, 'max_depth': 8, 'learning_rate': 0.1}\n",
      "0.343 (+/-0.064) for {'n_estimators': 5, 'max_depth': 32, 'learning_rate': 0.1}\n",
      "0.338 (+/-0.082) for {'n_estimators': 150, 'max_depth': 4, 'learning_rate': 0.03}\n",
      "0.356 (+/-0.048) for {'n_estimators': 5, 'max_depth': 16, 'learning_rate': 0.1}\n",
      "0.366 (+/-0.138) for {'n_estimators': 5, 'max_depth': 4, 'learning_rate': 0.1}\n",
      "0.368 (+/-0.07) for {'n_estimators': 250, 'max_depth': None, 'learning_rate': 1}\n",
      "0.374 (+/-0.057) for {'n_estimators': 150, 'max_depth': 3, 'learning_rate': 0.1}\n",
      "0.347 (+/-0.073) for {'n_estimators': 250, 'max_depth': 32, 'learning_rate': 0.03}\n",
      "0.34 (+/-0.07) for {'n_estimators': 5, 'max_depth': 3, 'learning_rate': 0.03}\n",
      "0.35 (+/-0.098) for {'n_estimators': 5, 'max_depth': 32, 'learning_rate': 0.03}\n",
      "0.368 (+/-0.041) for {'n_estimators': 250, 'max_depth': 8, 'learning_rate': 0.1}\n",
      "0.39 (+/-0.022) for {'n_estimators': 250, 'max_depth': 3, 'learning_rate': 1}\n",
      "0.352 (+/-0.081) for {'n_estimators': 150, 'max_depth': None, 'learning_rate': 0.03}\n",
      "0.374 (+/-0.081) for {'n_estimators': 100, 'max_depth': 3, 'learning_rate': 0.1}\n",
      "0.39 (+/-0.079) for {'n_estimators': 50, 'max_depth': 3, 'learning_rate': 1}\n",
      "0.372 (+/-0.086) for {'n_estimators': 100, 'max_depth': 4, 'learning_rate': 1}\n"
     ]
    }
   ],
   "source": [
    "gbc = GradientBoostingClassifier()\n",
    "parameters = {\n",
    "    'n_estimators': [5, 50, 100, 150, 250],\n",
    "    'max_depth': [2, 3, 4, 8, 16, 32, None],\n",
    "    'learning_rate': [0.03, 0.1, 0.3, 1]\n",
    "}\n",
    "\n",
    "from sklearn.model_selection import RandomizedSearchCV\n",
    "rs = RandomizedSearchCV(gbc, parameters, cv=5,n_iter=20)\n",
    "rs.fit(x_train, y_train)\n",
    "\n",
    "print_results(rs)"
   ]
  },
  {
   "cell_type": "code",
   "execution_count": null,
   "metadata": {},
   "outputs": [],
   "source": [
    "#gridsearch\n",
    "from sklearn.model_selection import GridSearchCV,RandomizedSearchCV\n",
    "gbc = GradientBoostingClassifier()\n",
    "parameters = {\n",
    "    'n_estimators': [80, 90, 100, 125, 150],\n",
    "    'max_depth': [2,3,4,5,8,16,None],\n",
    "    'learning_rate': [0.03, 0.1, 0.3, 0.5]\n",
    "}\n",
    "cv = GridSearchCV(gbc, parameters, cv=5)\n",
    "cv.fit(x_train, y_train)\n",
    "\n",
    "print_results(cv)"
   ]
  },
  {
   "cell_type": "code",
   "execution_count": null,
   "metadata": {},
   "outputs": [],
   "source": [
    "cv.best_score_"
   ]
  },
  {
   "cell_type": "code",
   "execution_count": null,
   "metadata": {},
   "outputs": [],
   "source": [
    "cvP= cv.predict(x_test)\n",
    "\n",
    "cvAS = accuracy_score(y_test, cvP)\n",
    "cvaccuracy = cvAS*100\n",
    "cvaccuracy"
   ]
  },
  {
   "cell_type": "code",
   "execution_count": null,
   "metadata": {},
   "outputs": [],
   "source": [
    "cvtarget = cv.predict(dftest)\n",
    "cvtarget = encoder.inverse_transform(cvtarget)\n",
    "\n",
    "cvtarget = pd.DataFrame(cvtarget, columns = ['prediction'])\n",
    "cvtarget.to_csv(\"submissioncvmin.csv\", index = False) "
   ]
  },
  {
   "cell_type": "code",
   "execution_count": null,
   "metadata": {},
   "outputs": [],
   "source": []
  },
  {
   "cell_type": "code",
   "execution_count": 45,
   "metadata": {},
   "outputs": [],
   "source": [
    "from mlxtend.classifier import StackingCVClassifier"
   ]
  },
  {
   "cell_type": "code",
   "execution_count": 46,
   "metadata": {},
   "outputs": [
    {
     "name": "stdout",
     "output_type": "stream",
     "text": [
      "Accuracy of StackingCVClassifier: 33.19502074688796 \n",
      "\n"
     ]
    }
   ],
   "source": [
    "scvc=StackingCVClassifier(classifiers=[light,xgb],meta_classifier= dec,random_state=1)\n",
    "scvc.fit(x_train,y_train)\n",
    "scvc_predicted = scvc.predict(x_test)\n",
    "scvc_acc_score = accuracy_score(y_test, scvc_predicted)\n",
    "print(\"Accuracy of StackingCVClassifier:\",scvc_acc_score*100,'\\n')"
   ]
  },
  {
   "cell_type": "code",
   "execution_count": 47,
   "metadata": {},
   "outputs": [],
   "source": [
    "scvctarget = scvc.predict(dftest)\n",
    "scvctarget = encoder.inverse_transform(scvctarget)\n",
    "\n",
    "scvctarget = pd.DataFrame(scvctarget, columns = ['prediction'])\n",
    "scvctarget.to_csv(\"submissionscvcmin.csv\", index = False) "
   ]
  },
  {
   "cell_type": "code",
   "execution_count": null,
   "metadata": {},
   "outputs": [],
   "source": []
  },
  {
   "cell_type": "code",
   "execution_count": 34,
   "metadata": {},
   "outputs": [],
   "source": [
    "dtarget = dec.predict(dftest)\n",
    "\n",
    "dtarget = encoder.inverse_transform(dtarget)\n",
    "dtarget = pd.DataFrame(dtarget, columns = ['prediction'])\n",
    "dtarget.to_csv(\"submissiontwo.csv\", index = False) "
   ]
  },
  {
   "cell_type": "code",
   "execution_count": 25,
   "metadata": {},
   "outputs": [],
   "source": []
  }
 ],
 "metadata": {
  "kernelspec": {
   "display_name": "Python 3",
   "language": "python",
   "name": "python3"
  },
  "language_info": {
   "codemirror_mode": {
    "name": "ipython",
    "version": 3
   },
   "file_extension": ".py",
   "mimetype": "text/x-python",
   "name": "python",
   "nbconvert_exporter": "python",
   "pygments_lexer": "ipython3",
   "version": "3.7.6"
  }
 },
 "nbformat": 4,
 "nbformat_minor": 4
}
