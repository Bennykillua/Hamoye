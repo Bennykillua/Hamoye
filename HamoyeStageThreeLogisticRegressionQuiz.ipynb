{
  "nbformat": 4,
  "nbformat_minor": 0,
  "metadata": {
    "colab": {
      "name": "HamoyeStageThreeLogisticRegression.ipynb",
      "provenance": [],
      "collapsed_sections": [],
      "authorship_tag": "ABX9TyNBLmWJJFKd+k4t5X93hWo8",
      "include_colab_link": true
    },
    "kernelspec": {
      "name": "python3",
      "display_name": "Python 3"
    }
  },
  "cells": [
    {
      "cell_type": "markdown",
      "metadata": {
        "id": "view-in-github",
        "colab_type": "text"
      },
      "source": [
        "<a href=\"https://colab.research.google.com/github/Bennykillua/Hamoye/blob/master/HamoyeStageThreeLogisticRegressionQuiz.ipynb\" target=\"_parent\"><img src=\"https://colab.research.google.com/assets/colab-badge.svg\" alt=\"Open In Colab\"/></a>"
      ]
    },
    {
      "cell_type": "code",
      "metadata": {
        "id": "EL0k8nej_qqk",
        "colab_type": "code",
        "colab": {}
      },
      "source": [
        "#importing the necessary libraries\n",
        "import pandas as pd\n",
        "import numpy as np"
      ],
      "execution_count": 1,
      "outputs": []
    },
    {
      "cell_type": "code",
      "metadata": {
        "id": "EH37LbRrBNmn",
        "colab_type": "code",
        "colab": {
          "base_uri": "https://localhost:8080/",
          "height": 202
        },
        "outputId": "d1539c0f-5872-4e87-8bf9-c3731fe7dd96"
      },
      "source": [
        "#loading my dataset\n",
        "url =\"https://archive.ics.uci.edu/ml/machine-learning-databases/00471/Data_for_UCI_named.csv\"\n",
        "\n",
        "df = pd.read_csv(url, error_bad_lines=False)\n",
        "\n",
        "df.head()"
      ],
      "execution_count": 2,
      "outputs": [
        {
          "output_type": "execute_result",
          "data": {
            "text/html": [
              "<div>\n",
              "<style scoped>\n",
              "    .dataframe tbody tr th:only-of-type {\n",
              "        vertical-align: middle;\n",
              "    }\n",
              "\n",
              "    .dataframe tbody tr th {\n",
              "        vertical-align: top;\n",
              "    }\n",
              "\n",
              "    .dataframe thead th {\n",
              "        text-align: right;\n",
              "    }\n",
              "</style>\n",
              "<table border=\"1\" class=\"dataframe\">\n",
              "  <thead>\n",
              "    <tr style=\"text-align: right;\">\n",
              "      <th></th>\n",
              "      <th>tau1</th>\n",
              "      <th>tau2</th>\n",
              "      <th>tau3</th>\n",
              "      <th>tau4</th>\n",
              "      <th>p1</th>\n",
              "      <th>p2</th>\n",
              "      <th>p3</th>\n",
              "      <th>p4</th>\n",
              "      <th>g1</th>\n",
              "      <th>g2</th>\n",
              "      <th>g3</th>\n",
              "      <th>g4</th>\n",
              "      <th>stab</th>\n",
              "      <th>stabf</th>\n",
              "    </tr>\n",
              "  </thead>\n",
              "  <tbody>\n",
              "    <tr>\n",
              "      <th>0</th>\n",
              "      <td>2.959060</td>\n",
              "      <td>3.079885</td>\n",
              "      <td>8.381025</td>\n",
              "      <td>9.780754</td>\n",
              "      <td>3.763085</td>\n",
              "      <td>-0.782604</td>\n",
              "      <td>-1.257395</td>\n",
              "      <td>-1.723086</td>\n",
              "      <td>0.650456</td>\n",
              "      <td>0.859578</td>\n",
              "      <td>0.887445</td>\n",
              "      <td>0.958034</td>\n",
              "      <td>0.055347</td>\n",
              "      <td>unstable</td>\n",
              "    </tr>\n",
              "    <tr>\n",
              "      <th>1</th>\n",
              "      <td>9.304097</td>\n",
              "      <td>4.902524</td>\n",
              "      <td>3.047541</td>\n",
              "      <td>1.369357</td>\n",
              "      <td>5.067812</td>\n",
              "      <td>-1.940058</td>\n",
              "      <td>-1.872742</td>\n",
              "      <td>-1.255012</td>\n",
              "      <td>0.413441</td>\n",
              "      <td>0.862414</td>\n",
              "      <td>0.562139</td>\n",
              "      <td>0.781760</td>\n",
              "      <td>-0.005957</td>\n",
              "      <td>stable</td>\n",
              "    </tr>\n",
              "    <tr>\n",
              "      <th>2</th>\n",
              "      <td>8.971707</td>\n",
              "      <td>8.848428</td>\n",
              "      <td>3.046479</td>\n",
              "      <td>1.214518</td>\n",
              "      <td>3.405158</td>\n",
              "      <td>-1.207456</td>\n",
              "      <td>-1.277210</td>\n",
              "      <td>-0.920492</td>\n",
              "      <td>0.163041</td>\n",
              "      <td>0.766689</td>\n",
              "      <td>0.839444</td>\n",
              "      <td>0.109853</td>\n",
              "      <td>0.003471</td>\n",
              "      <td>unstable</td>\n",
              "    </tr>\n",
              "    <tr>\n",
              "      <th>3</th>\n",
              "      <td>0.716415</td>\n",
              "      <td>7.669600</td>\n",
              "      <td>4.486641</td>\n",
              "      <td>2.340563</td>\n",
              "      <td>3.963791</td>\n",
              "      <td>-1.027473</td>\n",
              "      <td>-1.938944</td>\n",
              "      <td>-0.997374</td>\n",
              "      <td>0.446209</td>\n",
              "      <td>0.976744</td>\n",
              "      <td>0.929381</td>\n",
              "      <td>0.362718</td>\n",
              "      <td>0.028871</td>\n",
              "      <td>unstable</td>\n",
              "    </tr>\n",
              "    <tr>\n",
              "      <th>4</th>\n",
              "      <td>3.134112</td>\n",
              "      <td>7.608772</td>\n",
              "      <td>4.943759</td>\n",
              "      <td>9.857573</td>\n",
              "      <td>3.525811</td>\n",
              "      <td>-1.125531</td>\n",
              "      <td>-1.845975</td>\n",
              "      <td>-0.554305</td>\n",
              "      <td>0.797110</td>\n",
              "      <td>0.455450</td>\n",
              "      <td>0.656947</td>\n",
              "      <td>0.820923</td>\n",
              "      <td>0.049860</td>\n",
              "      <td>unstable</td>\n",
              "    </tr>\n",
              "  </tbody>\n",
              "</table>\n",
              "</div>"
            ],
            "text/plain": [
              "       tau1      tau2      tau3  ...        g4      stab     stabf\n",
              "0  2.959060  3.079885  8.381025  ...  0.958034  0.055347  unstable\n",
              "1  9.304097  4.902524  3.047541  ...  0.781760 -0.005957    stable\n",
              "2  8.971707  8.848428  3.046479  ...  0.109853  0.003471  unstable\n",
              "3  0.716415  7.669600  4.486641  ...  0.362718  0.028871  unstable\n",
              "4  3.134112  7.608772  4.943759  ...  0.820923  0.049860  unstable\n",
              "\n",
              "[5 rows x 14 columns]"
            ]
          },
          "metadata": {
            "tags": []
          },
          "execution_count": 2
        }
      ]
    },
    {
      "cell_type": "code",
      "metadata": {
        "id": "EGVONz8tCADj",
        "colab_type": "code",
        "colab": {
          "base_uri": "https://localhost:8080/",
          "height": 69
        },
        "outputId": "5e3e8f2b-397f-49a4-b4fa-aa212f29443a"
      },
      "source": [
        "df.columns"
      ],
      "execution_count": 3,
      "outputs": [
        {
          "output_type": "execute_result",
          "data": {
            "text/plain": [
              "Index(['tau1', 'tau2', 'tau3', 'tau4', 'p1', 'p2', 'p3', 'p4', 'g1', 'g2',\n",
              "       'g3', 'g4', 'stab', 'stabf'],\n",
              "      dtype='object')"
            ]
          },
          "metadata": {
            "tags": []
          },
          "execution_count": 3
        }
      ]
    },
    {
      "cell_type": "code",
      "metadata": {
        "id": "Ac2L23DACbQa",
        "colab_type": "code",
        "colab": {
          "base_uri": "https://localhost:8080/",
          "height": 69
        },
        "outputId": "0332026a-9844-4875-f061-680a3dd526ce"
      },
      "source": [
        "df['stabf'].value_counts()"
      ],
      "execution_count": 4,
      "outputs": [
        {
          "output_type": "execute_result",
          "data": {
            "text/plain": [
              "unstable    6380\n",
              "stable      3620\n",
              "Name: stabf, dtype: int64"
            ]
          },
          "metadata": {
            "tags": []
          },
          "execution_count": 4
        }
      ]
    },
    {
      "cell_type": "code",
      "metadata": {
        "id": "PNSB3Y7GCdtz",
        "colab_type": "code",
        "colab": {
          "base_uri": "https://localhost:8080/",
          "height": 277
        },
        "outputId": "8e90789d-69ee-420e-bac7-851770d0b771"
      },
      "source": [
        "#finding out which column has nan values\n",
        "df.isna().sum()"
      ],
      "execution_count": 5,
      "outputs": [
        {
          "output_type": "execute_result",
          "data": {
            "text/plain": [
              "tau1     0\n",
              "tau2     0\n",
              "tau3     0\n",
              "tau4     0\n",
              "p1       0\n",
              "p2       0\n",
              "p3       0\n",
              "p4       0\n",
              "g1       0\n",
              "g2       0\n",
              "g3       0\n",
              "g4       0\n",
              "stab     0\n",
              "stabf    0\n",
              "dtype: int64"
            ]
          },
          "metadata": {
            "tags": []
          },
          "execution_count": 5
        }
      ]
    },
    {
      "cell_type": "code",
      "metadata": {
        "id": "hnOpiPsoCgNF",
        "colab_type": "code",
        "colab": {}
      },
      "source": [
        "#drop 'stab' so 'stabf' is the sole dependent variable\n",
        "df.drop(['stab'], axis=1,inplace=True)"
      ],
      "execution_count": 6,
      "outputs": []
    },
    {
      "cell_type": "code",
      "metadata": {
        "id": "KzhJiDhQCjEW",
        "colab_type": "code",
        "colab": {}
      },
      "source": [
        "#Preprocessing and defining our x and y.\n",
        "x = df.drop(columns = 'stabf')\n",
        "y = df['stabf']"
      ],
      "execution_count": 7,
      "outputs": []
    },
    {
      "cell_type": "code",
      "metadata": {
        "id": "9GVYI-z9Cman",
        "colab_type": "code",
        "colab": {
          "base_uri": "https://localhost:8080/",
          "height": 69
        },
        "outputId": "be150323-613c-463c-a7ce-c3dafa2dcac8"
      },
      "source": [
        "#split our dataset\n",
        "from sklearn.model_selection import train_test_split\n",
        "x_train, x_test, y_train, y_test = train_test_split(x, y, test_size=0.2, random_state=1)\n",
        "y_train.value_counts()"
      ],
      "execution_count": 8,
      "outputs": [
        {
          "output_type": "execute_result",
          "data": {
            "text/plain": [
              "unstable    5092\n",
              "stable      2908\n",
              "Name: stabf, dtype: int64"
            ]
          },
          "metadata": {
            "tags": []
          },
          "execution_count": 8
        }
      ]
    },
    {
      "cell_type": "code",
      "metadata": {
        "id": "fo1uZXgJCpEc",
        "colab_type": "code",
        "colab": {}
      },
      "source": [
        "#standard scaler\n",
        "\n",
        "from sklearn.preprocessing import StandardScaler\n",
        "scaler = StandardScaler()\n",
        "\n",
        "scaled_train_df = scaler.fit_transform(x_train)\n",
        "scaled_test_df = scaler.transform(x_test)\n",
        "\n",
        "\n",
        "scaled_xtrain_df = pd.DataFrame(scaled_train_df, columns=x_train.columns)\n",
        "scaled_xtest_df = pd.DataFrame(scaled_test_df, columns= x_test.columns)"
      ],
      "execution_count": 9,
      "outputs": []
    },
    {
      "cell_type": "code",
      "metadata": {
        "id": "u1brAjnfCsWZ",
        "colab_type": "code",
        "colab": {
          "base_uri": "https://localhost:8080/",
          "height": 156
        },
        "outputId": "e919af27-7695-423d-cab3-fe6f3e148878"
      },
      "source": [
        "#Random Forest Classifier\n",
        "\n",
        "from sklearn.ensemble import RandomForestClassifier\n",
        "rfc = RandomForestClassifier(random_state=1)\n",
        "rfc.fit(scaled_xtrain_df, y_train)"
      ],
      "execution_count": 10,
      "outputs": [
        {
          "output_type": "execute_result",
          "data": {
            "text/plain": [
              "RandomForestClassifier(bootstrap=True, ccp_alpha=0.0, class_weight=None,\n",
              "                       criterion='gini', max_depth=None, max_features='auto',\n",
              "                       max_leaf_nodes=None, max_samples=None,\n",
              "                       min_impurity_decrease=0.0, min_impurity_split=None,\n",
              "                       min_samples_leaf=1, min_samples_split=2,\n",
              "                       min_weight_fraction_leaf=0.0, n_estimators=100,\n",
              "                       n_jobs=None, oob_score=False, random_state=1, verbose=0,\n",
              "                       warm_start=False)"
            ]
          },
          "metadata": {
            "tags": []
          },
          "execution_count": 10
        }
      ]
    },
    {
      "cell_type": "code",
      "metadata": {
        "id": "wFOHykILCucz",
        "colab_type": "code",
        "colab": {}
      },
      "source": [
        "rfcpredictions = rfc.predict(scaled_xtest_df)"
      ],
      "execution_count": 11,
      "outputs": []
    },
    {
      "cell_type": "code",
      "metadata": {
        "id": "nWLv9TSSCx5t",
        "colab_type": "code",
        "colab": {}
      },
      "source": [
        "from sklearn.model_selection import cross_val_score\n",
        "from sklearn.metrics import recall_score, accuracy_score, precision_score, f1_score, confusion_matrix"
      ],
      "execution_count": 12,
      "outputs": []
    },
    {
      "cell_type": "code",
      "metadata": {
        "id": "G79w4mw_C5HY",
        "colab_type": "code",
        "colab": {
          "base_uri": "https://localhost:8080/",
          "height": 87
        },
        "outputId": "68e6656c-1687-42ee-997d-64d08ceb5b35"
      },
      "source": [
        "print(\"Accuracy score {}\".format(round(accuracy_score(y_test, rfcpredictions), 4)))\n",
        "print(\"Precision score for label stable %.3f\" % (precision_score(y_test, rfcpredictions, pos_label='stable')))\n",
        "print(\"Recall score for label stable {}\".format(round(recall_score(y_test, rfcpredictions, pos_label='stable'), 4)))\n",
        "print(\"F1 score %.3f\" % (f1_score(y_test, rfcpredictions, pos_label='stable')))"
      ],
      "execution_count": 13,
      "outputs": [
        {
          "output_type": "stream",
          "text": [
            "Accuracy score 0.929\n",
            "Precision score for label stable 0.919\n",
            "Recall score for label stable 0.8778\n",
            "F1 score 0.898\n"
          ],
          "name": "stdout"
        }
      ]
    },
    {
      "cell_type": "code",
      "metadata": {
        "id": "j_cF0o54ki-6",
        "colab_type": "code",
        "colab": {
          "base_uri": "https://localhost:8080/",
          "height": 52
        },
        "outputId": "f45552e1-e3e4-4f8c-9c70-00d2c8be717e"
      },
      "source": [
        "#confusion Matrix\n",
        "\n",
        "cnf_mat = confusion_matrix(y_true=y_test, y_pred=rfcpredictions, labels=['stable', 'unstable'])\n",
        "cnf_mat"
      ],
      "execution_count": 15,
      "outputs": [
        {
          "output_type": "execute_result",
          "data": {
            "text/plain": [
              "array([[ 625,   87],\n",
              "       [  55, 1233]])"
            ]
          },
          "metadata": {
            "tags": []
          },
          "execution_count": 15
        }
      ]
    },
    {
      "cell_type": "code",
      "metadata": {
        "id": "1caB5EMsDB4j",
        "colab_type": "code",
        "colab": {
          "base_uri": "https://localhost:8080/",
          "height": 173
        },
        "outputId": "16dd2ad4-975b-455f-b4d4-e42f82f4c8c1"
      },
      "source": [
        "from sklearn.metrics import classification_report\n",
        "\n",
        "print(classification_report(y_test, rfcpredictions, digits=4))"
      ],
      "execution_count": 14,
      "outputs": [
        {
          "output_type": "stream",
          "text": [
            "              precision    recall  f1-score   support\n",
            "\n",
            "      stable     0.9191    0.8778    0.8980       712\n",
            "    unstable     0.9341    0.9573    0.9456      1288\n",
            "\n",
            "    accuracy                         0.9290      2000\n",
            "   macro avg     0.9266    0.9176    0.9218      2000\n",
            "weighted avg     0.9288    0.9290    0.9286      2000\n",
            "\n"
          ],
          "name": "stdout"
        }
      ]
    },
    {
      "cell_type": "code",
      "metadata": {
        "id": "q_iOU_msDbJS",
        "colab_type": "code",
        "colab": {}
      },
      "source": [
        "#xgboost\n",
        "from xgboost import XGBClassifier\n",
        "xg = XGBClassifier(random_state =1)\n",
        "\n",
        "xg.fit(scaled_xtrain_df, y_train)\n",
        "\n",
        "xg_pred = xg.predict(scaled_xtest_df)"
      ],
      "execution_count": 18,
      "outputs": []
    },
    {
      "cell_type": "code",
      "metadata": {
        "id": "4cZhkAl8De9H",
        "colab_type": "code",
        "colab": {
          "base_uri": "https://localhost:8080/",
          "height": 87
        },
        "outputId": "546c9fe1-63ee-47b3-9db7-d063c8c4234d"
      },
      "source": [
        "print(\"Accuracy score {}\".format(round(accuracy_score(y_test, xg_pred), 4)))\n",
        "print(\"Precision score for label stable %.3f\" % (precision_score(y_test, xg_pred, pos_label='stable')))\n",
        "print(\"Recall score for label stable {}\".format(round(recall_score(y_test, xg_pred, pos_label='stable'), 4)))\n",
        "print(\"F1 score %.3f\" % (f1_score(y_test, xg_pred, pos_label='stable')))"
      ],
      "execution_count": 19,
      "outputs": [
        {
          "output_type": "stream",
          "text": [
            "Accuracy score 0.9195\n",
            "Precision score for label stable 0.921\n",
            "Recall score for label stable 0.8469\n",
            "F1 score 0.882\n"
          ],
          "name": "stdout"
        }
      ]
    },
    {
      "cell_type": "code",
      "metadata": {
        "id": "NU1rj7LGljEe",
        "colab_type": "code",
        "colab": {
          "base_uri": "https://localhost:8080/",
          "height": 52
        },
        "outputId": "c29eb16f-54f9-4988-e43e-5743032bbdd7"
      },
      "source": [
        "#confusion Matrix\n",
        "\n",
        "cnf_mat = confusion_matrix(y_true=y_test, y_pred=xg_pred, labels=['stable', 'unstable'])\n",
        "cnf_mat"
      ],
      "execution_count": 20,
      "outputs": [
        {
          "output_type": "execute_result",
          "data": {
            "text/plain": [
              "array([[ 603,  109],\n",
              "       [  52, 1236]])"
            ]
          },
          "metadata": {
            "tags": []
          },
          "execution_count": 20
        }
      ]
    },
    {
      "cell_type": "code",
      "metadata": {
        "id": "N_2hGeymDsXR",
        "colab_type": "code",
        "colab": {
          "base_uri": "https://localhost:8080/",
          "height": 173
        },
        "outputId": "d11f847c-d603-42ef-bfd9-541e54ae65b9"
      },
      "source": [
        "#classification report\n",
        "from sklearn.metrics import classification_report\n",
        "\n",
        "print(classification_report(y_test, xg_pred, digits=4))"
      ],
      "execution_count": 21,
      "outputs": [
        {
          "output_type": "stream",
          "text": [
            "              precision    recall  f1-score   support\n",
            "\n",
            "      stable     0.9206    0.8469    0.8822       712\n",
            "    unstable     0.9190    0.9596    0.9389      1288\n",
            "\n",
            "    accuracy                         0.9195      2000\n",
            "   macro avg     0.9198    0.9033    0.9105      2000\n",
            "weighted avg     0.9195    0.9195    0.9187      2000\n",
            "\n"
          ],
          "name": "stdout"
        }
      ]
    },
    {
      "cell_type": "code",
      "metadata": {
        "id": "9eO278gDD-ws",
        "colab_type": "code",
        "colab": {}
      },
      "source": [
        "#lightgbm\n",
        "from lightgbm import LGBMClassifier\n",
        "\n",
        "light = LGBMClassifier(random_state=1)\n",
        "\n",
        "light.fit(scaled_xtrain_df, y_train)\n",
        "\n",
        "light_pred = light.predict(scaled_xtest_df)"
      ],
      "execution_count": 22,
      "outputs": []
    },
    {
      "cell_type": "code",
      "metadata": {
        "id": "hEM8idolFdwE",
        "colab_type": "code",
        "colab": {
          "base_uri": "https://localhost:8080/",
          "height": 87
        },
        "outputId": "8866b44a-882d-4e8e-d20b-9585081c6bc1"
      },
      "source": [
        "print(\"Accuracy score {}\".format(round(accuracy_score(y_test, light_pred), 4)))\n",
        "print(\"Precision score for label stable %.3f\" % (precision_score(y_test, light_pred, pos_label='stable')))\n",
        "print(\"Recall score for label stable {}\".format(round(recall_score(y_test, light_pred, pos_label='stable'), 4)))\n",
        "print(\"F1 score %.3f\" % (f1_score(y_test, light_pred, pos_label='stable')))"
      ],
      "execution_count": 23,
      "outputs": [
        {
          "output_type": "stream",
          "text": [
            "Accuracy score 0.9375\n",
            "Precision score for label stable 0.930\n",
            "Recall score for label stable 0.8919\n",
            "F1 score 0.910\n"
          ],
          "name": "stdout"
        }
      ]
    },
    {
      "cell_type": "code",
      "metadata": {
        "id": "fSidRVXJmJh_",
        "colab_type": "code",
        "colab": {
          "base_uri": "https://localhost:8080/",
          "height": 52
        },
        "outputId": "3dff2383-1a42-4d0c-dda8-d09fec5516e4"
      },
      "source": [
        "#confusion Matrix\n",
        "\n",
        "cnf_mat = confusion_matrix(y_true=y_test, y_pred=light_pred, labels=['stable', 'unstable'])\n",
        "cnf_mat"
      ],
      "execution_count": 24,
      "outputs": [
        {
          "output_type": "execute_result",
          "data": {
            "text/plain": [
              "array([[ 635,   77],\n",
              "       [  48, 1240]])"
            ]
          },
          "metadata": {
            "tags": []
          },
          "execution_count": 24
        }
      ]
    },
    {
      "cell_type": "code",
      "metadata": {
        "id": "9SPT5BrIES3F",
        "colab_type": "code",
        "colab": {
          "base_uri": "https://localhost:8080/",
          "height": 173
        },
        "outputId": "9620f6da-e58c-4c28-a1ac-8d93cd49d594"
      },
      "source": [
        "from sklearn.metrics import classification_report\n",
        "print(classification_report(y_test, light_pred, digits=4))"
      ],
      "execution_count": 25,
      "outputs": [
        {
          "output_type": "stream",
          "text": [
            "              precision    recall  f1-score   support\n",
            "\n",
            "      stable     0.9297    0.8919    0.9104       712\n",
            "    unstable     0.9415    0.9627    0.9520      1288\n",
            "\n",
            "    accuracy                         0.9375      2000\n",
            "   macro avg     0.9356    0.9273    0.9312      2000\n",
            "weighted avg     0.9373    0.9375    0.9372      2000\n",
            "\n"
          ],
          "name": "stdout"
        }
      ]
    },
    {
      "cell_type": "code",
      "metadata": {
        "id": "OblahAS_EYtP",
        "colab_type": "code",
        "colab": {}
      },
      "source": [
        "#extra tree classifier\n",
        "from sklearn.ensemble import ExtraTreesClassifier\n",
        "\n",
        "tree = ExtraTreesClassifier(random_state=1)\n",
        "\n",
        "tree.fit(scaled_xtrain_df, y_train)\n",
        "\n",
        "tree_pred = tree.predict(scaled_xtest_df)"
      ],
      "execution_count": 26,
      "outputs": []
    },
    {
      "cell_type": "code",
      "metadata": {
        "id": "uaKHsDf1FnGq",
        "colab_type": "code",
        "colab": {
          "base_uri": "https://localhost:8080/",
          "height": 87
        },
        "outputId": "aaa9b79f-5ded-4352-d4f2-6048b168d981"
      },
      "source": [
        "print(\"Accuracy score {}\".format(round(accuracy_score(y_test, tree_pred), 4)))\n",
        "print(\"Precision score for label stable %.3f\" % (precision_score(y_test, tree_pred, pos_label='stable')))\n",
        "print(\"Recall score for label stable {}\".format(round(recall_score(y_test, tree_pred, pos_label='stable'), 4)))\n",
        "print(\"F1 score %.3f\" % (f1_score(y_test, tree_pred, pos_label='stable')))"
      ],
      "execution_count": 27,
      "outputs": [
        {
          "output_type": "stream",
          "text": [
            "Accuracy score 0.928\n",
            "Precision score for label stable 0.941\n",
            "Recall score for label stable 0.8511\n",
            "F1 score 0.894\n"
          ],
          "name": "stdout"
        }
      ]
    },
    {
      "cell_type": "code",
      "metadata": {
        "id": "gEegjbg1uOxO",
        "colab_type": "code",
        "colab": {
          "base_uri": "https://localhost:8080/",
          "height": 52
        },
        "outputId": "423fb99b-a12d-47d6-910c-7ef4895d7f2d"
      },
      "source": [
        "#confusion Matrix\n",
        "\n",
        "cnf_mat = confusion_matrix(y_true=y_test, y_pred=tree_pred, labels=['stable', 'unstable'])\n",
        "cnf_mat"
      ],
      "execution_count": 28,
      "outputs": [
        {
          "output_type": "execute_result",
          "data": {
            "text/plain": [
              "array([[ 606,  106],\n",
              "       [  38, 1250]])"
            ]
          },
          "metadata": {
            "tags": []
          },
          "execution_count": 28
        }
      ]
    },
    {
      "cell_type": "code",
      "metadata": {
        "id": "BGXfxPFhuYp_",
        "colab_type": "code",
        "colab": {
          "base_uri": "https://localhost:8080/",
          "height": 173
        },
        "outputId": "3d298711-5bb2-4783-bb1d-7ada39391244"
      },
      "source": [
        "from sklearn.metrics import classification_report\n",
        "print(classification_report(y_test, tree_pred, digits=4))"
      ],
      "execution_count": 29,
      "outputs": [
        {
          "output_type": "stream",
          "text": [
            "              precision    recall  f1-score   support\n",
            "\n",
            "      stable     0.9410    0.8511    0.8938       712\n",
            "    unstable     0.9218    0.9705    0.9455      1288\n",
            "\n",
            "    accuracy                         0.9280      2000\n",
            "   macro avg     0.9314    0.9108    0.9197      2000\n",
            "weighted avg     0.9287    0.9280    0.9271      2000\n",
            "\n"
          ],
          "name": "stdout"
        }
      ]
    },
    {
      "cell_type": "code",
      "metadata": {
        "id": "1ntIuWgTFq9Y",
        "colab_type": "code",
        "colab": {}
      },
      "source": [
        "n_estimators = [50, 100, 300, 500, 1000]\n",
        "min_samples_split = [2, 3, 5, 7, 9]\n",
        "min_samples_leaf = [1, 2, 4, 6, 8]\n",
        "max_features = ['auto', 'sqrt', 'log2', None] \n",
        "hyperparameter_grid = {'n_estimators': n_estimators,\n",
        "                       'min_samples_leaf': min_samples_leaf,\n",
        "                       'min_samples_split': min_samples_split,\n",
        "                       'max_features': max_features}"
      ],
      "execution_count": 31,
      "outputs": []
    },
    {
      "cell_type": "code",
      "metadata": {
        "id": "U8EX6tEoHvkm",
        "colab_type": "code",
        "colab": {}
      },
      "source": [
        "from sklearn.model_selection import RandomizedSearchCV\n",
        "clf = RandomizedSearchCV(tree, hyperparameter_grid, random_state=1)\n",
        "search = clf.fit(scaled_xtrain_df, y_train)"
      ],
      "execution_count": 32,
      "outputs": []
    },
    {
      "cell_type": "code",
      "metadata": {
        "id": "DEGq8DZRH9iy",
        "colab_type": "code",
        "colab": {
          "base_uri": "https://localhost:8080/",
          "height": 87
        },
        "outputId": "3d268ae2-73f3-422a-f76c-f91e31c1bd5b"
      },
      "source": [
        "#checking for the best parameter for the model\n",
        "search.best_params_"
      ],
      "execution_count": 33,
      "outputs": [
        {
          "output_type": "execute_result",
          "data": {
            "text/plain": [
              "{'max_features': None,\n",
              " 'min_samples_leaf': 8,\n",
              " 'min_samples_split': 2,\n",
              " 'n_estimators': 1000}"
            ]
          },
          "metadata": {
            "tags": []
          },
          "execution_count": 33
        }
      ]
    },
    {
      "cell_type": "code",
      "metadata": {
        "id": "SKYsfNeSIP9m",
        "colab_type": "code",
        "colab": {}
      },
      "source": [
        "#test the model's performance with the best parameter\n",
        "tree_param = ExtraTreesClassifier(n_estimators=1000, min_samples_leaf=8, \n",
        "                                 min_samples_split=2, max_features=None, random_state=1)\n",
        "\n",
        "tree_param.fit(scaled_xtrain_df, y_train)\n",
        "\n",
        "tree_param_pred = tree_param.predict(scaled_xtest_df)"
      ],
      "execution_count": 35,
      "outputs": []
    },
    {
      "cell_type": "code",
      "metadata": {
        "id": "69ufiD1mKQtk",
        "colab_type": "code",
        "colab": {
          "base_uri": "https://localhost:8080/",
          "height": 69
        },
        "outputId": "733be2bc-ef3a-44b2-8100-d50dd18eff4d"
      },
      "source": [
        "feature_importances = clf.best_estimator_.feature_importances_\n",
        "print(\"feature importance: \\n\", (feature_importances))\n"
      ],
      "execution_count": 36,
      "outputs": [
        {
          "output_type": "stream",
          "text": [
            "feature importance: \n",
            " [0.13723975 0.1405075  0.13468029 0.13541676 0.00368342 0.00533686\n",
            " 0.00542927 0.00496249 0.10256244 0.10757765 0.11306268 0.10954089]\n"
          ],
          "name": "stdout"
        }
      ]
    },
    {
      "cell_type": "code",
      "metadata": {
        "id": "wFnmxINwLtso",
        "colab_type": "code",
        "colab": {
          "base_uri": "https://localhost:8080/",
          "height": 225
        },
        "outputId": "183f76b4-6a98-41bb-d8d8-f74daf903134"
      },
      "source": [
        "sorted (zip(feature_importances, x), reverse= True)"
      ],
      "execution_count": 39,
      "outputs": [
        {
          "output_type": "execute_result",
          "data": {
            "text/plain": [
              "[(0.14050750384993677, 'tau2'),\n",
              " (0.13723974766109256, 'tau1'),\n",
              " (0.1354167630909727, 'tau4'),\n",
              " (0.13468028520386593, 'tau3'),\n",
              " (0.11306267999167334, 'g3'),\n",
              " (0.10954089174337298, 'g4'),\n",
              " (0.10757764577478764, 'g2'),\n",
              " (0.10256244080927947, 'g1'),\n",
              " (0.005429268421191957, 'p3'),\n",
              " (0.005336864710946151, 'p2'),\n",
              " (0.004962486591192238, 'p4'),\n",
              " (0.003683422151688322, 'p1')]"
            ]
          },
          "metadata": {
            "tags": []
          },
          "execution_count": 39
        }
      ]
    },
    {
      "cell_type": "code",
      "metadata": {
        "id": "4MJxbhMf5NuX",
        "colab_type": "code",
        "colab": {}
      },
      "source": [
        ""
      ],
      "execution_count": null,
      "outputs": []
    }
  ]
}